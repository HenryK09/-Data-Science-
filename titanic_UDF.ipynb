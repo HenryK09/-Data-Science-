{
 "cells": [
  {
   "cell_type": "code",
   "execution_count": 1,
   "metadata": {},
   "outputs": [],
   "source": [
    "import pandas as pd\n",
    "import numpy as np"
   ]
  },
  {
   "cell_type": "code",
   "execution_count": 2,
   "metadata": {},
   "outputs": [],
   "source": [
    "def read_data():\n",
    "    data = pd.read_csv('C:/Users/s/Desktop/대외활동/Data Science/train.csv')\n",
    "    data_subset = data.drop(['PassengerId', 'SibSp', 'Parch', 'Ticket', 'Cabin', 'Embarked'], axis=1)\n",
    "    data_subset_renamed = data_subset.rename({'Pclass': 'Social_class', 'Sex' : 'Gender'}, axis = 1)\n",
    "    data_subset_renamed.sort_values(by = ['Survived', 'Social_class', 'Fare', 'Age', 'Gender'], ascending = [False, True, False, True, False])\n",
    "    data_grouped = data_subset_renamed.groupby(['Survived', 'Social_class'])\n",
    "    data_mean = data_grouped['Age', 'Fare'].apply(lambda x: x.mean())\n",
    "    data_diff = data_mean.assign(Age_Difference=lambda x: x.Age - x.Age.mean(), Fare_Difference=lambda y: y.Fare - y.Fare.mean())\n",
    "    \n",
    "    return data_diff"
   ]
  },
  {
   "cell_type": "code",
   "execution_count": 3,
   "metadata": {},
   "outputs": [
    {
     "name": "stderr",
     "output_type": "stream",
     "text": [
      "<ipython-input-2-d401e8e10127>:7: FutureWarning: Indexing with multiple keys (implicitly converted to a tuple of keys) will be deprecated, use a list instead.\n",
      "  data_mean = data_grouped['Age', 'Fare'].apply(lambda x: x.mean())\n"
     ]
    },
    {
     "data": {
      "text/html": [
       "<div>\n",
       "<style scoped>\n",
       "    .dataframe tbody tr th:only-of-type {\n",
       "        vertical-align: middle;\n",
       "    }\n",
       "\n",
       "    .dataframe tbody tr th {\n",
       "        vertical-align: top;\n",
       "    }\n",
       "\n",
       "    .dataframe thead th {\n",
       "        text-align: right;\n",
       "    }\n",
       "</style>\n",
       "<table border=\"1\" class=\"dataframe\">\n",
       "  <thead>\n",
       "    <tr style=\"text-align: right;\">\n",
       "      <th></th>\n",
       "      <th></th>\n",
       "      <th>Age</th>\n",
       "      <th>Fare</th>\n",
       "      <th>Age_Difference</th>\n",
       "      <th>Fare_Difference</th>\n",
       "    </tr>\n",
       "    <tr>\n",
       "      <th>Survived</th>\n",
       "      <th>Social_class</th>\n",
       "      <th></th>\n",
       "      <th></th>\n",
       "      <th></th>\n",
       "      <th></th>\n",
       "    </tr>\n",
       "  </thead>\n",
       "  <tbody>\n",
       "    <tr>\n",
       "      <th rowspan=\"3\" valign=\"top\">0</th>\n",
       "      <th>1</th>\n",
       "      <td>43.695312</td>\n",
       "      <td>64.684008</td>\n",
       "      <td>12.743447</td>\n",
       "      <td>26.496622</td>\n",
       "    </tr>\n",
       "    <tr>\n",
       "      <th>2</th>\n",
       "      <td>33.544444</td>\n",
       "      <td>19.412328</td>\n",
       "      <td>2.592579</td>\n",
       "      <td>-18.775058</td>\n",
       "    </tr>\n",
       "    <tr>\n",
       "      <th>3</th>\n",
       "      <td>26.555556</td>\n",
       "      <td>13.669364</td>\n",
       "      <td>-4.396310</td>\n",
       "      <td>-24.518022</td>\n",
       "    </tr>\n",
       "    <tr>\n",
       "      <th rowspan=\"3\" valign=\"top\">1</th>\n",
       "      <th>1</th>\n",
       "      <td>35.368197</td>\n",
       "      <td>95.608029</td>\n",
       "      <td>4.416331</td>\n",
       "      <td>57.420643</td>\n",
       "    </tr>\n",
       "    <tr>\n",
       "      <th>2</th>\n",
       "      <td>25.901566</td>\n",
       "      <td>22.055700</td>\n",
       "      <td>-5.050299</td>\n",
       "      <td>-16.131686</td>\n",
       "    </tr>\n",
       "    <tr>\n",
       "      <th>3</th>\n",
       "      <td>20.646118</td>\n",
       "      <td>13.694887</td>\n",
       "      <td>-10.305748</td>\n",
       "      <td>-24.492499</td>\n",
       "    </tr>\n",
       "  </tbody>\n",
       "</table>\n",
       "</div>"
      ],
      "text/plain": [
       "                             Age       Fare  Age_Difference  Fare_Difference\n",
       "Survived Social_class                                                       \n",
       "0        1             43.695312  64.684008       12.743447        26.496622\n",
       "         2             33.544444  19.412328        2.592579       -18.775058\n",
       "         3             26.555556  13.669364       -4.396310       -24.518022\n",
       "1        1             35.368197  95.608029        4.416331        57.420643\n",
       "         2             25.901566  22.055700       -5.050299       -16.131686\n",
       "         3             20.646118  13.694887      -10.305748       -24.492499"
      ]
     },
     "execution_count": 3,
     "metadata": {},
     "output_type": "execute_result"
    }
   ],
   "source": [
    "read_data()"
   ]
  },
  {
   "cell_type": "code",
   "execution_count": null,
   "metadata": {},
   "outputs": [],
   "source": []
  }
 ],
 "metadata": {
  "kernelspec": {
   "display_name": "Python 3",
   "language": "python",
   "name": "python3"
  },
  "language_info": {
   "codemirror_mode": {
    "name": "ipython",
    "version": 3
   },
   "file_extension": ".py",
   "mimetype": "text/x-python",
   "name": "python",
   "nbconvert_exporter": "python",
   "pygments_lexer": "ipython3",
   "version": "3.8.5"
  }
 },
 "nbformat": 4,
 "nbformat_minor": 4
}
